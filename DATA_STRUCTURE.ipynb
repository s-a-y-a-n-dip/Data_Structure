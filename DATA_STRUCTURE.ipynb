{
 "cells": [
  {
   "cell_type": "code",
   "execution_count": 1,
   "id": "6b2319f6-3fb5-4863-8e7c-591d98aca5f8",
   "metadata": {},
   "outputs": [],
   "source": [
    "# 1. What are data structures, and why are they important?\n",
    "# >> Data structures are specialized formats for organizing and storing data to enable efficient access, modification, and management, playing a critical role in computer science and programming. They optimize performance, memory usage, and scalability, making algorithms and applications more effective. By providing structured ways to handle data—such as arrays, linked lists, stacks, queues, trees, and graphs—they simplify complex problem-solving and improve reusability across different applications. Whether managing databases, designing networks, or implementing algorithms, choosing the right data structure is essential for building efficient and scalable software solutions.\n"
   ]
  },
  {
   "cell_type": "code",
   "execution_count": 2,
   "id": "d3361a69-9bc9-41b5-b2a1-feb0f66591e8",
   "metadata": {},
   "outputs": [],
   "source": [
    "# 2. Explain the difference between mutable and immutable data types with examples.\n",
    "# >>\n",
    "# Aspect\t                                Mutable\t                                                                  Immutable\n",
    "# Modifiability\t             Can be changed after creation.\t                                   Cannot be changed after creation.\n",
    "# Memory Efficiency\t         More memory-efficient for frequent changes.\t                   Less memory-efficient for frequent changes (new objects are created).\n",
    "# Examples\t                 Lists, dictionaries, sets.\t                                       Integers, strings, tuples, frozen sets.\n",
    "# Use Case\t                 Ideal for dynamic data that changes often.\t                        Ideal for fixed data that should not change."
   ]
  },
  {
   "cell_type": "code",
   "execution_count": 3,
   "id": "55b01af5-f217-460d-a811-3cf24ade7e9f",
   "metadata": {},
   "outputs": [],
   "source": [
    "# 3. What are the main differences between lists and tuples in Python?\n",
    "# >>\n",
    "# Feature\t                              Lists\t                                                   Tuples\n",
    "# Mutability\t                  Mutable (can be changed)\t                           Immutable (cannot be changed)\n",
    "# Syntax\t                      Square brackets []\t                               Parentheses ()\n",
    "# Performance\t                  Slower for modifications\t                           Faster and memory-efficient\n",
    "# Use Cases                       Dynamic data\t                                       Fixed data\n",
    "# Methods\t                      More methods for modification\t                       Fewer methods (e.g., count, index)\n",
    "# Memory Usage\t                  Consumes more memory\t                               Consumes less memory\n"
   ]
  },
  {
   "cell_type": "code",
   "execution_count": 4,
   "id": "688e9b3d-6b5f-468a-8bb7-3dece0d15560",
   "metadata": {},
   "outputs": [],
   "source": [
    "# 4. Describe how dictionaries store data.\n",
    "# >> Dictionaries store data as key-value pairs using hash tables, enabling fast and efficient data retrieval and manipulation. They are mutable, flexible, and ideal for scenarios where you need to associate unique keys with values, such as storing configurations, user data, or lookup tables.\n",
    "\n",
    "my_dict = {\"mom\" : 132, \"dad\" : 456, \"son\" : 789}"
   ]
  },
  {
   "cell_type": "code",
   "execution_count": 5,
   "id": "109119f9-b6cb-482c-961a-ca2aa215a820",
   "metadata": {},
   "outputs": [],
   "source": [
    "# 5. Why might you use a set instead of a list in Python?\n",
    "# >> When to Use a Set:\n",
    "# When you need to ensure uniqueness of elements.\n",
    "# When you need fast membership testing.\n",
    "# When you want to perform mathematical operations like union or intersection.\n",
    "# When the order of elements does not matter.\n",
    "# When to Use a List:\n",
    "# When you need to maintain the order of elements.\n",
    "# When you want to allow duplicates.\n",
    "# When you need to perform index-based operations (e.g., accessing elements by position)."
   ]
  },
  {
   "cell_type": "code",
   "execution_count": 6,
   "id": "de2ae9c4-588b-475d-9943-782b148bc281",
   "metadata": {},
   "outputs": [],
   "source": [
    "# 6. What is a string in Python, and how is it different from a list?\n",
    "# >> A string is a sequence of characters enclosed in single quotes (' '), double quotes (\" \"), or triple quotes (''' ''' or \"\"\" \"\"\"). Strings are used to represent text data and are immutable, meaning their contents cannot be changed after creation.\n",
    "#    Strings and lists are both fundamental data structures in Python, but they are designed for different purposes. Strings are ideal for handling text data and are immutable, while lists are versatile containers for collections of items and are mutable. Choosing the right one depends on your specific use case.\n"
   ]
  },
  {
   "cell_type": "code",
   "execution_count": 7,
   "id": "9ae864ac-f0a0-4365-a09d-76199b6ec0b6",
   "metadata": {},
   "outputs": [],
   "source": [
    "# 7.  How do tuples ensure data integrity in Python?\n",
    "# >> Tuples ensure data integrity in Python by being immutable, hashable, and thread-safe. They are ideal for storing fixed data, protecting against accidental modifications, and ensuring consistency in programs. By using tuples, you can guarantee that your data remains unchanged and reliable throughout its lifecycle.\n",
    "#    When to Use Tuples for Data Integrity : \n",
    "#    When you need to store fixed or constant data that should not change.\n",
    "#    When you want to ensure that data remains unchanged throughout the program.\n",
    "#    When you need hashable data structures for dictionaries or sets.\n",
    "#    When working in multi-threaded environments where immutability ensures thread safety.\n",
    "\n",
    "\n"
   ]
  },
  {
   "cell_type": "code",
   "execution_count": 8,
   "id": "0b0fe35c-7ceb-4f39-8bf9-6cf15ad823e0",
   "metadata": {},
   "outputs": [],
   "source": [
    "# 8. What is a hash table, and how does it relate to dictionaries in Python?\n",
    "# >> A hash tableIn Python, dictionaries are implemented using hash tables, which is why they provide efficient and fast operations.\n",
    "#    In Python, dictionaries are implemented using hash tables, which is why they provide efficient and fast operations.\n",
    "#    Hash tables ensure that dictionaries can handle large amounts of data while maintaining performance and flexibility."
   ]
  },
  {
   "cell_type": "code",
   "execution_count": 9,
   "id": "e716f36b-5709-446f-ae63-0a798d5a2d6a",
   "metadata": {},
   "outputs": [],
   "source": [
    "# 9. Can lists contain different data types in Python?\n",
    "# >> Yes, lists in Python can contain different data types. Unlike some other programming languages, Python lists are heterogeneous, meaning they can store elements of various types, including integers, floats, strings, booleans, other lists, dictionaries, and even functions or objects.\n",
    "\n",
    "list = [\"apple\", \"banana\", 1, 2, (4+5j), 3.9]"
   ]
  },
  {
   "cell_type": "code",
   "execution_count": 10,
   "id": "c33ef3ba-3ec0-4339-b959-eb66d5da7d1f",
   "metadata": {},
   "outputs": [],
   "source": [
    "# 10. Explain why strings are immutable in Python.\n",
    "# >> In Python, strings are immutable, meaning once a string is created, its contents cannot be changed. This immutability is a fundamental design choice in Python and has several important implications and benefits.\n",
    "# Strings are immutable in Python to:\n",
    "# 1. Improve memory efficiency through interning.\n",
    "# 2. Ensure hashability for use as dictionary keys.\n",
    "# 3. Guarantee thread safety in concurrent programs.\n",
    "# 4. Optimize performance by caching and reusing strings.\n",
    "# 5. Provide predictable behavior and prevent unintended side effects.\n",
    "# 6. Enhance security by preventing unauthorized changes.\n"
   ]
  },
  {
   "cell_type": "code",
   "execution_count": 11,
   "id": "5d0dd883-3613-45e3-beec-7e213ef67d1d",
   "metadata": {},
   "outputs": [],
   "source": [
    "# 11. What advantages do dictionaries offer over lists for certain tasks?\n",
    "# >> Dictionaries offer several advantages over lists for tasks that involve:\n",
    "# 1. Fast lookups by key.\n",
    "# 2. Key-value pair associations.\n",
    "# 3. Efficient membership testing.\n",
    "# 4. Flexible key types.\n",
    "# 5. Handling sparse data.\n",
    "# 6. Dynamic and structured data storage.\n",
    "# While lists are better suited for ordered collections and sequential data, dictionaries are the preferred choice for tasks that require associative data storage and fast access by unique keys. Choosing the right data structure depends on the specific requirements of your task."
   ]
  },
  {
   "cell_type": "code",
   "execution_count": 12,
   "id": "d382979f-793c-4017-9b96-774d631ac5ae",
   "metadata": {},
   "outputs": [],
   "source": [
    "# 12. Describe a scenario where using a tuple would be preferable over a list.\n",
    "# >> Tuples are preferable over lists when you need to store fixed, immutable data that should not change during the program's execution.\n"
   ]
  },
  {
   "cell_type": "code",
   "execution_count": 13,
   "id": "417dbf93-9009-4225-a74f-f0f4ccad514f",
   "metadata": {},
   "outputs": [],
   "source": [
    "# 13.  How do sets handle duplicate values in Python?\n",
    "# >>\n",
    "# Sets automatically handle duplicates by ensuring each element is unique.\n",
    "# Adding duplicate values to a set has no effect; the set remains unchanged.\n",
    "# Sets are useful for operations that require uniqueness, such as removing duplicates or checking for membership.\n",
    "# By leveraging sets, you can efficiently manage collections of unique elements in Python."
   ]
  },
  {
   "cell_type": "code",
   "execution_count": 14,
   "id": "401ab9f5-7579-472f-8841-ee36d888d735",
   "metadata": {},
   "outputs": [
    {
     "name": "stdout",
     "output_type": "stream",
     "text": [
      "True\n",
      "True\n",
      "True\n"
     ]
    }
   ],
   "source": [
    "# 14. How does the “in” keyword work differently for lists and dictionaries?\n",
    "# >>\n",
    "# Lists: When used with a list, the in keyword checks if a value exists as an element in the list\n",
    "# Dictionaries:  When used with a dictionary, the in keyword checks if a key exists in the dictionary.\n",
    "\n",
    "\n",
    "# List example\n",
    "my_list = [10, 20, 30, 40]\n",
    "print(20 in my_list)  # Output: True\n",
    "\n",
    "# Dictionary example\n",
    "my_dict = {'x': 100, 'y': 200, 'z': 300}\n",
    "print('y' in my_dict)  # Output: True\n",
    "print(200 in my_dict.values())  # Output: True"
   ]
  },
  {
   "cell_type": "code",
   "execution_count": 15,
   "id": "eebb7ffa-4f9e-4cbe-a47a-1fb3b76b12d9",
   "metadata": {},
   "outputs": [
    {
     "ename": "TypeError",
     "evalue": "'tuple' object does not support item assignment",
     "output_type": "error",
     "traceback": [
      "\u001b[1;31m---------------------------------------------------------------------------\u001b[0m",
      "\u001b[1;31mTypeError\u001b[0m                                 Traceback (most recent call last)",
      "Cell \u001b[1;32mIn[15], line 7\u001b[0m\n\u001b[0;32m      1\u001b[0m \u001b[38;5;66;03m# 15. Can you modify the elements of a tuple? Explain why or why not.\u001b[39;00m\n\u001b[0;32m      2\u001b[0m \u001b[38;5;66;03m# >>\u001b[39;00m\n\u001b[0;32m      3\u001b[0m \u001b[38;5;66;03m# Tuples are immutable, which means that once a tuple is created, its elements cannot be modified, added, or removed.\u001b[39;00m\n\u001b[0;32m      4\u001b[0m \n\u001b[0;32m      5\u001b[0m \u001b[38;5;66;03m# Creating a tuple\u001b[39;00m\n\u001b[0;32m      6\u001b[0m my_tuple \u001b[38;5;241m=\u001b[39m (\u001b[38;5;241m1\u001b[39m, \u001b[38;5;241m2\u001b[39m, \u001b[38;5;241m3\u001b[39m, \u001b[38;5;241m4\u001b[39m)\n\u001b[1;32m----> 7\u001b[0m my_tuple[\u001b[38;5;241m0\u001b[39m] \u001b[38;5;241m=\u001b[39m \u001b[38;5;241m9\u001b[39m\n",
      "\u001b[1;31mTypeError\u001b[0m: 'tuple' object does not support item assignment"
     ]
    }
   ],
   "source": [
    "# 15. Can you modify the elements of a tuple? Explain why or why not.\n",
    "# >>\n",
    "# Tuples are immutable, which means that once a tuple is created, its elements cannot be modified, added, or removed.\n",
    "\n",
    "# Creating a tuple\n",
    "my_tuple = (1, 2, 3, 4)\n",
    "my_tuple[0] = 9\n",
    "\n"
   ]
  },
  {
   "cell_type": "code",
   "execution_count": null,
   "id": "fa006c0a-2920-4cbd-83fd-91904436747c",
   "metadata": {},
   "outputs": [],
   "source": [
    "# 16. What is a nested dictionary, and give an example of its use case?\n",
    "# >> \n",
    "# A nested dictionary is a dictionary that contains other dictionaries as values.\n",
    "# It is useful for representing hierarchical or structured data, such as configuration settings, JSON-like objects, or organizational structures.\n",
    "# You can access and modify nested dictionary data by chaining keys together.\n",
    "# Nested dictionaries provide a flexible and powerful way to organize and manage complex data in Python.\n",
    "\n",
    "# Nested dictionary representing employee data\n",
    "employees = {\n",
    "    'employee1': {\n",
    "        'name': 'Alice',\n",
    "        'age': 30,\n",
    "        'department': 'Engineering',\n",
    "        'skills': ['Python', 'Java', 'SQL']\n",
    "    },\n",
    "    'employee2': {\n",
    "        'name': 'Bob',\n",
    "        'age': 25,\n",
    "        'department': 'Marketing',\n",
    "        'skills': ['SEO', 'Content Writing', 'Social Media']\n",
    "    },\n",
    "}\n"
   ]
  },
  {
   "cell_type": "code",
   "execution_count": null,
   "id": "0712cadc-e0c3-4d17-9e64-e048c6c1e40f",
   "metadata": {},
   "outputs": [],
   "source": [
    "# 17.  Describe the time complexity of accessing elements in a dictionary.\n",
    "# >>\n",
    "# Average Case: Accessing elements in a dictionary is O(1) due to the efficient hash table implementation.\n",
    "# Worst Case: Accessing elements can degrade to O(n) in rare cases of many hash collisions.\n",
    "# Use Case: Dictionaries are ideal for scenarios requiring fast lookups, insertions, and deletions, such as caching, indexing, or mapping relationships.\n",
    "\n",
    "my_dict = {'a': 1, 'b': 2, 'c': 3}\n",
    "value = my_dict['b']  # O(1) average time complexity "
   ]
  },
  {
   "cell_type": "code",
   "execution_count": null,
   "id": "13416cb0-79cf-4994-a6d1-1baf98d4320c",
   "metadata": {},
   "outputs": [],
   "source": [
    "# 18. In what situations are lists preferred over dictionaries?\n",
    "# >> \n",
    "# Use lists when:\n",
    "# You need to maintain the order of elements.\n",
    "# You need to store duplicate values.\n",
    "# You need index-based access or slicing.\n",
    "# You are working with homogeneous data.\n",
    "# You need to implement stack or queue operations.\n",
    "# You are working with small collections where key-value pairs are unnecessary.\n",
    "# Use dictionaries when:\n",
    "# You need to associate keys with values for fast lookups.\n",
    "# You are working with heterogeneous data.\n",
    "# You need to ensure uniqueness of keys.\n",
    "# You are working with large datasets where fast access by key is critical."
   ]
  },
  {
   "cell_type": "code",
   "execution_count": null,
   "id": "eb192891-e509-4e9b-aa51-2bbe38637088",
   "metadata": {},
   "outputs": [],
   "source": [
    "# 19. Why are dictionaries considered unordered, and how does that affect data retrieval?\n",
    "# >>\n",
    "# Dictionaries are considered unordered because their hash table implementation does not inherently preserve order.\n",
    "# This unordered nature affects data retrieval by:\n",
    "# Requiring key-based access instead of index-based access.\n",
    "# Making iteration order unreliable in older Python versions.\n",
    "# Preventing slicing operations."
   ]
  },
  {
   "cell_type": "code",
   "execution_count": null,
   "id": "09a21222-a598-458d-9388-814ff917f456",
   "metadata": {},
   "outputs": [],
   "source": [
    "# 20.  Explain the difference between a list and a dictionary in terms of data retrieval.\n",
    "# >>\n",
    "# Access Mechanism: >> List: Uses integer indices for access. >> Dictionary: Uses keys for access.\n",
    "# Order: >> List: Maintains the order of elements. >> Dictionary: Does not guarantee any specific order of elements (though as of Python 3.7+, dictionaries maintain insertion order as an implementation detail).\n",
    "# Performance: >> List: Accessing an element by index is very fast. >> Accessing an element by key is also very fast, but the keys must be hashable.\n",
    "# Use Case: >> List: Best for ordered collections where elements are accessed by their position. >> Dictionary: Best for collections where elements are accessed by a unique identifier.\n"
   ]
  },
  {
   "cell_type": "code",
   "execution_count": null,
   "id": "8452c780-c0e0-47cc-9f70-7c91bf787065",
   "metadata": {},
   "outputs": [],
   "source": [
    "## Practical Questions >>>>"
   ]
  },
  {
   "cell_type": "code",
   "execution_count": 2,
   "id": "037b05a9-b899-4ad7-8803-7ed5588fdc5d",
   "metadata": {},
   "outputs": [
    {
     "data": {
      "text/plain": [
       "'Sayandip'"
      ]
     },
     "execution_count": 2,
     "metadata": {},
     "output_type": "execute_result"
    }
   ],
   "source": [
    "# 1. Write a code to create a string with your name and print it.\n",
    "\n",
    "name = \"Sayandip\"\n",
    "name"
   ]
  },
  {
   "cell_type": "code",
   "execution_count": 4,
   "id": "ec9ac51d-cbf5-459b-89b2-0e2a3c663525",
   "metadata": {},
   "outputs": [
    {
     "data": {
      "text/plain": [
       "11"
      ]
     },
     "execution_count": 4,
     "metadata": {},
     "output_type": "execute_result"
    }
   ],
   "source": [
    "# 2. Write a code to find the length of the string \"Hello World\".\n",
    "\n",
    "my_string = \"Hello World\"\n",
    "len(my_string)"
   ]
  },
  {
   "cell_type": "code",
   "execution_count": 6,
   "id": "8d6a3984-aeba-4ca1-bb13-2cba5dbc50e0",
   "metadata": {},
   "outputs": [
    {
     "data": {
      "text/plain": [
       "'Pyt'"
      ]
     },
     "execution_count": 6,
     "metadata": {},
     "output_type": "execute_result"
    }
   ],
   "source": [
    "# 3.  Write a code to slice the first 3 characters from the string \"Python Programming\".\n",
    "\n",
    "my_string = \"Python Programming\"\n",
    "my_string[:3]"
   ]
  },
  {
   "cell_type": "code",
   "execution_count": 8,
   "id": "f38d49d4-590a-4707-8eaf-b809a58bcd63",
   "metadata": {},
   "outputs": [
    {
     "data": {
      "text/plain": [
       "'HELLO'"
      ]
     },
     "execution_count": 8,
     "metadata": {},
     "output_type": "execute_result"
    }
   ],
   "source": [
    "# 4. Write a code to convert the string \"hello\" to uppercase.\n",
    "\n",
    "my_string = \"hello\"\n",
    "my_string.upper()"
   ]
  },
  {
   "cell_type": "code",
   "execution_count": 10,
   "id": "7a87b098-2949-43a7-8a68-2901c1bcd20d",
   "metadata": {},
   "outputs": [
    {
     "data": {
      "text/plain": [
       "'I like orange'"
      ]
     },
     "execution_count": 10,
     "metadata": {},
     "output_type": "execute_result"
    }
   ],
   "source": [
    "# 5. Write a code to replace the word \"apple\" with \"orange\" in the string \"I like apple\".\n",
    "\n",
    "my_string = \"I like apple\"\n",
    "my_string.replace(\"apple\", \"orange\")"
   ]
  },
  {
   "cell_type": "code",
   "execution_count": 12,
   "id": "d83c8201-119f-485a-b627-739561603b92",
   "metadata": {},
   "outputs": [
    {
     "data": {
      "text/plain": [
       "[1, 2, 3, 4, 5]"
      ]
     },
     "execution_count": 12,
     "metadata": {},
     "output_type": "execute_result"
    }
   ],
   "source": [
    "# 6.  Write a code to create a list with numbers 1 to 5 and print it.\n",
    "\n",
    "my_list = [1, 2, 3, 4, 5]\n",
    "my_list"
   ]
  },
  {
   "cell_type": "code",
   "execution_count": 14,
   "id": "1a55ddce-c772-475f-8d6d-047a57fdabb7",
   "metadata": {},
   "outputs": [
    {
     "data": {
      "text/plain": [
       "[1, 2, 3, 4, 10]"
      ]
     },
     "execution_count": 14,
     "metadata": {},
     "output_type": "execute_result"
    }
   ],
   "source": [
    "# 7. Write a code to append the number 10 to the list [1, 2, 3, 4].\n",
    "\n",
    "my_list = [1, 2, 3, 4]\n",
    "my_list.append(10)\n",
    "my_list"
   ]
  },
  {
   "cell_type": "code",
   "execution_count": 16,
   "id": "152953ba-15cd-47d1-a79d-c91f6a4b544d",
   "metadata": {},
   "outputs": [
    {
     "data": {
      "text/plain": [
       "[1, 2, 4, 5]"
      ]
     },
     "execution_count": 16,
     "metadata": {},
     "output_type": "execute_result"
    }
   ],
   "source": [
    "# 8.  Write a code to remove the number 3 from the list [1, 2, 3, 4, 5].\n",
    "\n",
    "my_list = [1, 2, 3, 4, 5]\n",
    "my_list.remove(3)\n",
    "my_list"
   ]
  },
  {
   "cell_type": "code",
   "execution_count": 18,
   "id": "11ce8569-3c77-41b3-ba58-3ee9bb204b4b",
   "metadata": {},
   "outputs": [
    {
     "data": {
      "text/plain": [
       "'b'"
      ]
     },
     "execution_count": 18,
     "metadata": {},
     "output_type": "execute_result"
    }
   ],
   "source": [
    "# 9. Write a code to access the second element in the list ['a', 'b', 'c', 'd'].\n",
    "\n",
    "my_list = ['a', 'b', 'c', 'd']\n",
    "my_list[1]"
   ]
  },
  {
   "cell_type": "code",
   "execution_count": 20,
   "id": "13ca6b1a-1804-4651-9588-14d5b21b7ebb",
   "metadata": {},
   "outputs": [
    {
     "data": {
      "text/plain": [
       "[50, 40, 30, 20, 10]"
      ]
     },
     "execution_count": 20,
     "metadata": {},
     "output_type": "execute_result"
    }
   ],
   "source": [
    "# 10. Write a code to reverse the list [10, 20, 30, 40, 50].\n",
    "\n",
    "my_list = [10, 20, 30, 40, 50]\n",
    "my_list[::-1]"
   ]
  },
  {
   "cell_type": "code",
   "execution_count": 22,
   "id": "1847240c-1b3f-4ee2-8943-14f192079235",
   "metadata": {},
   "outputs": [
    {
     "data": {
      "text/plain": [
       "(100, 200, 300)"
      ]
     },
     "execution_count": 22,
     "metadata": {},
     "output_type": "execute_result"
    }
   ],
   "source": [
    "# 11. Write a code to create a tuple with the elements 100, 200, 300 and print it.\n",
    "\n",
    "my_tuple = (100, 200, 300)\n",
    "my_tuple"
   ]
  },
  {
   "cell_type": "code",
   "execution_count": 24,
   "id": "38727b9b-1140-41bc-b699-bd5533acec7f",
   "metadata": {},
   "outputs": [
    {
     "data": {
      "text/plain": [
       "'blue'"
      ]
     },
     "execution_count": 24,
     "metadata": {},
     "output_type": "execute_result"
    }
   ],
   "source": [
    "# 12. Write a code to access the second-to-last element of the tuple ('red', 'green', 'blue', 'yellow').\n",
    "\n",
    "my_tuple = ('red', 'green', 'blue', 'yellow')\n",
    "my_tuple[-2]"
   ]
  },
  {
   "cell_type": "code",
   "execution_count": 26,
   "id": "22e4be97-c09a-438b-8b58-07cf286d74b0",
   "metadata": {},
   "outputs": [
    {
     "data": {
      "text/plain": [
       "5"
      ]
     },
     "execution_count": 26,
     "metadata": {},
     "output_type": "execute_result"
    }
   ],
   "source": [
    "# 13. Write a code to find the minimum number in the tuple (10, 20, 5, 15).\n",
    "\n",
    "my_tuple = (10, 20, 5, 15)\n",
    "min(my_tuple)"
   ]
  },
  {
   "cell_type": "code",
   "execution_count": 28,
   "id": "d0921c90-6126-46bd-a2f2-dd70a46ff7f9",
   "metadata": {},
   "outputs": [
    {
     "name": "stdout",
     "output_type": "stream",
     "text": [
      "1\n"
     ]
    }
   ],
   "source": [
    "# 14. Write a code to find the index of the element \"cat\" in the tuple ('dog', 'cat', 'rabbit').\n",
    "\n",
    "my_tuple = ('dog', 'cat', 'rabbit')\n",
    "index = my_tuple.index('cat')\n",
    "print(index)"
   ]
  },
  {
   "cell_type": "code",
   "execution_count": 30,
   "id": "8c28a61e-7483-4e3f-abe0-772658822301",
   "metadata": {},
   "outputs": [
    {
     "name": "stdout",
     "output_type": "stream",
     "text": [
      "No, 'kiwi' is not in the tuple.\n"
     ]
    }
   ],
   "source": [
    "# 15. Write a code to create a tuple containing three different fruits and check if \"kiwi\" is in it.\n",
    "\n",
    "fruits = ('apple', 'banana', 'orange')\n",
    "if 'kiwi' in fruits:\n",
    "    print(\"Yes, 'kiwi' is in the tuple.\")\n",
    "else:\n",
    "    print(\"No, 'kiwi' is not in the tuple.\")"
   ]
  },
  {
   "cell_type": "code",
   "execution_count": 32,
   "id": "45902fd0-3521-45fe-91f5-4a09d4e64aec",
   "metadata": {},
   "outputs": [
    {
     "data": {
      "text/plain": [
       "{'a', 'b', 'c'}"
      ]
     },
     "execution_count": 32,
     "metadata": {},
     "output_type": "execute_result"
    }
   ],
   "source": [
    "# 16. Write a code to create a set with the elements 'a', 'b', 'c' and print it.\n",
    "\n",
    "my_set = {'a', 'b', 'c'}\n",
    "my_set"
   ]
  },
  {
   "cell_type": "code",
   "execution_count": 34,
   "id": "25561de2-243f-4d1a-8de9-befca2346df8",
   "metadata": {},
   "outputs": [
    {
     "data": {
      "text/plain": [
       "set()"
      ]
     },
     "execution_count": 34,
     "metadata": {},
     "output_type": "execute_result"
    }
   ],
   "source": [
    "# 17. Write a code to clear all elements from the set {1, 2, 3, 4, 5}.\n",
    "\n",
    "my_set = {1, 2, 3, 4, 5}\n",
    "my_set.clear()\n",
    "my_set"
   ]
  },
  {
   "cell_type": "code",
   "execution_count": 36,
   "id": "541652b1-653c-4152-935b-db3d99741a6e",
   "metadata": {},
   "outputs": [
    {
     "data": {
      "text/plain": [
       "{1, 2, 3}"
      ]
     },
     "execution_count": 36,
     "metadata": {},
     "output_type": "execute_result"
    }
   ],
   "source": [
    "# 18.  Write a code to remove the element 4 from the set {1, 2, 3, 4}.\n",
    "\n",
    "my_set = {1, 2, 3, 4}\n",
    "my_set.remove(4)\n",
    "my_set"
   ]
  },
  {
   "cell_type": "code",
   "execution_count": 38,
   "id": "d7ddb808-d0c1-4b6b-ab7a-0dffa3af90bb",
   "metadata": {},
   "outputs": [
    {
     "data": {
      "text/plain": [
       "{1, 2, 3, 4, 5}"
      ]
     },
     "execution_count": 38,
     "metadata": {},
     "output_type": "execute_result"
    }
   ],
   "source": [
    "# 19. Write a code to find the union of two sets {1, 2, 3} and {3, 4, 5}.\n",
    "\n",
    "set1 = {1, 2, 3}\n",
    "set2 = {3, 4, 5}\n",
    "set1 | set2"
   ]
  },
  {
   "cell_type": "code",
   "execution_count": 40,
   "id": "c23a4dcd-8d0d-422e-bbe0-bd6c2d616621",
   "metadata": {},
   "outputs": [
    {
     "data": {
      "text/plain": [
       "{2, 3}"
      ]
     },
     "execution_count": 40,
     "metadata": {},
     "output_type": "execute_result"
    }
   ],
   "source": [
    "# 20. Write a code to find the intersection of two sets {1, 2, 3} and {2, 3, 4}.\n",
    "\n",
    "set1 = {1, 2, 3}\n",
    "set2 = {2, 3, 4}\n",
    "intersection_set = set1 & set2\n",
    "intersection_set"
   ]
  },
  {
   "cell_type": "code",
   "execution_count": 42,
   "id": "6870db05-d836-4063-bdb5-0d1de71a15cd",
   "metadata": {},
   "outputs": [
    {
     "data": {
      "text/plain": [
       "{'name': 'Sayan', 'age': 30, 'city': 'Kolkata'}"
      ]
     },
     "execution_count": 42,
     "metadata": {},
     "output_type": "execute_result"
    }
   ],
   "source": [
    "# 21.  Write a code to create a dictionary with the keys \"name\", \"age\", and \"city\", and print it.\n",
    "\n",
    "# Create a dictionary\n",
    "my_dict = { \"name\": \"Sayan\", \"age\": 30, \"city\": \"Kolkata\"}\n",
    "my_dict"
   ]
  },
  {
   "cell_type": "code",
   "execution_count": 44,
   "id": "4801eafa-2065-4e98-8fe3-d0b4a96e31e9",
   "metadata": {},
   "outputs": [
    {
     "data": {
      "text/plain": [
       "{'name': 'John', 'age': 25, 'country': 'USA'}"
      ]
     },
     "execution_count": 44,
     "metadata": {},
     "output_type": "execute_result"
    }
   ],
   "source": [
    "# 22. Write a code to add a new key-value pair \"country\": \"USA\" to the dictionary {'name': 'John', 'age': 25}.\n",
    "\n",
    "my_dict = {'name': 'John', 'age': 25}\n",
    "my_dict['country'] = 'USA'\n",
    "my_dict"
   ]
  },
  {
   "cell_type": "code",
   "execution_count": 46,
   "id": "9a341593-27cf-4591-bc53-4dfe583b6169",
   "metadata": {},
   "outputs": [
    {
     "data": {
      "text/plain": [
       "{'name': 'Alice', 'age': 30}"
      ]
     },
     "execution_count": 46,
     "metadata": {},
     "output_type": "execute_result"
    }
   ],
   "source": [
    "# 23. Write a code to access the value associated with the key \"name\" in the dictionary {'name': 'Alice', 'age': 30}.\n",
    "\n",
    "my_dict = {'name': 'Alice', 'age': 30}\n",
    "name_value = my_dict['name']\n",
    "my_dict"
   ]
  },
  {
   "cell_type": "code",
   "execution_count": 48,
   "id": "9b41c903-6cc1-44db-b513-4aa9d301f09e",
   "metadata": {},
   "outputs": [
    {
     "data": {
      "text/plain": [
       "{'name': 'Bob', 'city': 'New York'}"
      ]
     },
     "execution_count": 48,
     "metadata": {},
     "output_type": "execute_result"
    }
   ],
   "source": [
    "# 24. Write a code to remove the key \"age\" from the dictionary {'name': 'Bob', 'age': 22, 'city': 'New York'}.\n",
    "\n",
    "my_dict = {'name': 'Bob', 'age': 22, 'city': 'New York'}\n",
    "del my_dict['age']\n",
    "my_dict"
   ]
  },
  {
   "cell_type": "code",
   "execution_count": 50,
   "id": "22fbb4b8-57eb-45b9-b42e-18093b29417e",
   "metadata": {},
   "outputs": [
    {
     "name": "stdout",
     "output_type": "stream",
     "text": [
      "Key 'city' exists in the dictionary.\n"
     ]
    }
   ],
   "source": [
    "# 25. Write a code to check if the key \"city\" exists in the dictionary {'name': 'Alice', 'city': 'Paris'}.\n",
    "\n",
    "person = {'name': 'Alice', 'city': 'Paris'}\n",
    "if 'city' in person:\n",
    "    print(\"Key 'city' exists in the dictionary.\")\n",
    "else:\n",
    "    print(\"Key 'city' does not exist in the dictionary.\")\n"
   ]
  },
  {
   "cell_type": "code",
   "execution_count": 52,
   "id": "5d0a09dc-353c-4097-9494-893c2a688c8d",
   "metadata": {},
   "outputs": [
    {
     "data": {
      "text/plain": [
       "[1, 2, 3, 4, 5]"
      ]
     },
     "execution_count": 52,
     "metadata": {},
     "output_type": "execute_result"
    }
   ],
   "source": [
    "# 26. Write a code to create a list, a tuple, and a dictionary, and print them all.\n",
    "\n",
    "# List\n",
    "my_list = [1, 2, 3, 4, 5]\n",
    "my_list"
   ]
  },
  {
   "cell_type": "code",
   "execution_count": 4,
   "id": "8fc3bdc8-1c6c-4574-9739-39f2068648e9",
   "metadata": {},
   "outputs": [
    {
     "data": {
      "text/plain": [
       "(10, 20, 30, 40, 50)"
      ]
     },
     "execution_count": 4,
     "metadata": {},
     "output_type": "execute_result"
    }
   ],
   "source": [
    "# Tuple\n",
    "my_tuple = (10, 20, 30, 40, 50)\n",
    "my_tuple"
   ]
  },
  {
   "cell_type": "code",
   "execution_count": 6,
   "id": "17f2afa6-e4b9-4d16-a6e0-974e42841ca9",
   "metadata": {},
   "outputs": [
    {
     "data": {
      "text/plain": [
       "{'name': 'Sayan', 'age': 30, 'city': 'Kolkata'}"
      ]
     },
     "execution_count": 6,
     "metadata": {},
     "output_type": "execute_result"
    }
   ],
   "source": [
    "# Dictionary\n",
    "my_dict = {'name': 'Sayan', 'age': 30, 'city': 'Kolkata'}\n",
    "my_dict"
   ]
  },
  {
   "cell_type": "code",
   "execution_count": 54,
   "id": "dd046c54-c7fe-4d86-abfe-0f4891c402f4",
   "metadata": {},
   "outputs": [
    {
     "ename": "NameError",
     "evalue": "name 'random' is not defined",
     "output_type": "error",
     "traceback": [
      "\u001b[1;31m---------------------------------------------------------------------------\u001b[0m",
      "\u001b[1;31mNameError\u001b[0m                                 Traceback (most recent call last)",
      "Cell \u001b[1;32mIn[54], line 3\u001b[0m\n\u001b[0;32m      1\u001b[0m \u001b[38;5;66;03m# 27. Write a code to create a list of 5 random numbers between 1 and 100, sort it in ascending order, and print the result.(replaced)\u001b[39;00m\n\u001b[1;32m----> 3\u001b[0m random_numbers \u001b[38;5;241m=\u001b[39m random\u001b[38;5;241m.\u001b[39msample(\u001b[38;5;28mrange\u001b[39m(\u001b[38;5;241m1\u001b[39m, \u001b[38;5;241m101\u001b[39m), \u001b[38;5;241m5\u001b[39m)\n\u001b[0;32m      4\u001b[0m \u001b[38;5;28msorted\u001b[39m(random_numbers)\n",
      "\u001b[1;31mNameError\u001b[0m: name 'random' is not defined"
     ]
    }
   ],
   "source": [
    "# 27. Write a code to create a list of 5 random numbers between 1 and 100, sort it in ascending order, and print the result.(replaced)\n",
    "\n",
    "random_numbers = random.sample(range(1, 101), 5)\n",
    "sorted(random_numbers)"
   ]
  },
  {
   "cell_type": "code",
   "execution_count": 56,
   "id": "66681167-9d50-4a8a-8bb2-9c007f689463",
   "metadata": {},
   "outputs": [
    {
     "data": {
      "text/plain": [
       "'date'"
      ]
     },
     "execution_count": 56,
     "metadata": {},
     "output_type": "execute_result"
    }
   ],
   "source": [
    "# 28. Write a code to create a list with strings and print the element at the third index.\n",
    "\n",
    "my_list = [\"apple\", \"banana\", \"cherry\", \"date\", \"elderberry\"]\n",
    "my_list[3]"
   ]
  },
  {
   "cell_type": "code",
   "execution_count": 58,
   "id": "dd2c24ee-f557-409f-8235-b58a8769b26a",
   "metadata": {},
   "outputs": [
    {
     "data": {
      "text/plain": [
       "{'a': 1, 'b': 2, 'c': 3, 'd': 4, 'e': 5, 'f': 6}"
      ]
     },
     "execution_count": 58,
     "metadata": {},
     "output_type": "execute_result"
    }
   ],
   "source": [
    "# 29. Write a code to combine two dictionaries into one and print the result.\n",
    "\n",
    "dict1 = {\"a\": 1, \"b\": 2, \"c\": 3}\n",
    "dict2 = {\"d\": 4, \"e\": 5, \"f\": 6}\n",
    "combined_dict = {**dict1, **dict2}\n",
    "combined_dict"
   ]
  },
  {
   "cell_type": "code",
   "execution_count": 60,
   "id": "9a4c0947-889c-49ea-a7fe-f1241f1569ec",
   "metadata": {},
   "outputs": [
    {
     "data": {
      "text/plain": [
       "{'apple', 'banana', 'cherry'}"
      ]
     },
     "execution_count": 60,
     "metadata": {},
     "output_type": "execute_result"
    }
   ],
   "source": [
    "# 30. Write a code to convert a list of strings into a set.\n",
    "\n",
    "my_list = [\"apple\", \"banana\", \"cherry\", \"apple\", \"banana\"]\n",
    "my_set = set(my_list)\n",
    "my_set"
   ]
  },
  {
   "cell_type": "code",
   "execution_count": null,
   "id": "e2ecbcbc-2dd8-4e9a-89ed-ef639c7d6408",
   "metadata": {},
   "outputs": [],
   "source": []
  }
 ],
 "metadata": {
  "kernelspec": {
   "display_name": "Python [conda env:base] *",
   "language": "python",
   "name": "conda-base-py"
  },
  "language_info": {
   "codemirror_mode": {
    "name": "ipython",
    "version": 3
   },
   "file_extension": ".py",
   "mimetype": "text/x-python",
   "name": "python",
   "nbconvert_exporter": "python",
   "pygments_lexer": "ipython3",
   "version": "3.12.7"
  }
 },
 "nbformat": 4,
 "nbformat_minor": 5
}
